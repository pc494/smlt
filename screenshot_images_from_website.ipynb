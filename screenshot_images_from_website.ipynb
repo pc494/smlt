{
 "cells": [
  {
   "cell_type": "code",
   "execution_count": 1,
   "metadata": {},
   "outputs": [],
   "source": [
    "import json\n",
    "import base64\n",
    "from selenium import webdriver\n",
    "from selenium.webdriver.chrome.options import Options\n",
    "import time"
   ]
  },
  {
   "cell_type": "markdown",
   "metadata": {},
   "source": [
    "## Import the data"
   ]
  },
  {
   "cell_type": "code",
   "execution_count": 2,
   "metadata": {},
   "outputs": [],
   "source": [
    "json_file_path = 'complete_pull.json'\n",
    "with open(json_file_path, 'r') as j:\n",
    "     contents = json.loads(j.read())"
   ]
  },
  {
   "cell_type": "markdown",
   "metadata": {},
   "source": [
    "#### Check what it looks like"
   ]
  },
  {
   "cell_type": "code",
   "execution_count": 3,
   "metadata": {},
   "outputs": [
    {
     "data": {
      "text/plain": [
       "{'author_id': '1210121128867454977',\n",
       " 'id': '1591877516427681793',\n",
       " 'lang': 'en',\n",
       " 'text': 'Started watching adventure time, there’s no way this show was for children??',\n",
       " 'edit_history_tweet_ids': ['1591877516427681793']}"
      ]
     },
     "execution_count": 3,
     "metadata": {},
     "output_type": "execute_result"
    }
   ],
   "source": [
    "contents['1']['data'][7]"
   ]
  },
  {
   "cell_type": "markdown",
   "metadata": {},
   "source": [
    "## Supporting functionality "
   ]
  },
  {
   "cell_type": "code",
   "execution_count": null,
   "metadata": {},
   "outputs": [],
   "source": [
    "def chrome_takeFullScreenshot(driver) :\n",
    "    \"\"\" From https://stackoverflow.com/questions/45199076 \"\"\"\n",
    "    \n",
    "    def send(cmd, params):\n",
    "        resource = \"/session/%s/chromium/send_command_and_get_result\" % driver.session_id\n",
    "        url = driver.command_executor._url + resource\n",
    "        body = json.dumps({'cmd':cmd, 'params': params})\n",
    "        response = driver.command_executor._request('POST', url, body)\n",
    "        return response.get('value')\n",
    "\n",
    "    def evaluate(script):\n",
    "        response = send('Runtime.evaluate', {'returnByValue': True, 'expression': script})\n",
    "        return response['result']['value']\n",
    "\n",
    "    metrics = evaluate( \\\n",
    "    \"({\" + \\\n",
    "      \"width: Math.max(window.innerWidth, document.body.scrollWidth, document.documentElement.scrollWidth)|0,\" + \\\n",
    "      \"height: Math.max(innerHeight, document.body.scrollHeight, document.documentElement.scrollHeight)|0,\" + \\\n",
    "      \"deviceScaleFactor: window.devicePixelRatio || 1,\" + \\\n",
    "      \"mobile: typeof window.orientation !== 'undefined'\" + \"})\") \n",
    "    send('Emulation.setDeviceMetricsOverride', metrics)\n",
    "    screenshot = send('Page.captureScreenshot', {'format': 'png', 'fromSurface': True})\n",
    "    send('Emulation.clearDeviceMetricsOverride', {})\n",
    "\n",
    "    return base64.b64decode(screenshot['data'])"
   ]
  },
  {
   "cell_type": "code",
   "execution_count": null,
   "metadata": {},
   "outputs": [],
   "source": [
    "def get_screenshot_and_save(fp):\n",
    "    png = chrome_takeFullScreenshot(driver)\n",
    "\n",
    "    with open(fp, 'wb') as f:\n",
    "        f.write(png)\n",
    "        f.close()"
   ]
  },
  {
   "cell_type": "markdown",
   "metadata": {},
   "source": [
    "## Set up the webdriver"
   ]
  },
  {
   "cell_type": "code",
   "execution_count": null,
   "metadata": {},
   "outputs": [],
   "source": [
    "user_data_dir = r\"--user-data-dir=/home/username/.config/google-chrome/Default\" #change username as required\n",
    "profile_directory = r'--profile-directory=Default'\n",
    "\n",
    "options = webdriver.ChromeOptions()\n",
    "options.add_argument(user_data_dir)\n",
    "options.add_argument(profile_directory)\n",
    "driver = webdriver.Chrome(chrome_options=options)"
   ]
  },
  {
   "cell_type": "markdown",
   "metadata": {},
   "source": [
    "## Run the scrape"
   ]
  },
  {
   "cell_type": "code",
   "execution_count": null,
   "metadata": {},
   "outputs": [],
   "source": [
    "page_start = \"https://twitter.com/\"\n",
    "for keys in contents:\n",
    "    for tweet in contents[keys]['data']:\n",
    "        author = str(tweet['author_id'])\n",
    "        tweet_number = str(tweet['id'])\n",
    "        url = page_start+author+\"/status/\"+tweet_number\n",
    "        driver.get(url)\n",
    "        time.sleep(5) #allows image heavy pages to load\n",
    "        get_screenshot_and_save(\"./output/author_\"+author+\"_tweet_\"+tweet_number+\".png\")"
   ]
  }
 ],
 "metadata": {
  "kernelspec": {
   "display_name": "Python 3",
   "language": "python",
   "name": "python3"
  },
  "language_info": {
   "codemirror_mode": {
    "name": "ipython",
    "version": 3
   },
   "file_extension": ".py",
   "mimetype": "text/x-python",
   "name": "python",
   "nbconvert_exporter": "python",
   "pygments_lexer": "ipython3",
   "version": "3.8.2"
  }
 },
 "nbformat": 4,
 "nbformat_minor": 4
}
